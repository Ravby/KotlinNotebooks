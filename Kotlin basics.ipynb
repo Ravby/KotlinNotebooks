{
 "cells": [
  {
   "cell_type": "code",
   "metadata": {
    "collapsed": true,
    "ExecuteTime": {
     "end_time": "2024-04-03T13:19:55.188611Z",
     "start_time": "2024-04-03T13:19:55.152627100Z"
    }
   },
   "source": [
    "import kotlinx.serialization.*\n",
    "import kotlinx.serialization.json.*"
   ],
   "outputs": [],
   "execution_count": 13
  },
  {
   "metadata": {
    "ExecuteTime": {
     "end_time": "2024-04-03T13:19:55.313565300Z",
     "start_time": "2024-04-03T13:19:55.191610Z"
    }
   },
   "cell_type": "code",
   "source": [
    "@Serializable\n",
    "data class Pt(val x: Int, val y: Int)"
   ],
   "outputs": [],
   "execution_count": 14
  },
  {
   "metadata": {
    "ExecuteTime": {
     "end_time": "2024-04-03T13:19:55.390536600Z",
     "start_time": "2024-04-03T13:19:55.319562900Z"
    }
   },
   "cell_type": "code",
   "source": "Json.encodeToString(Pt(2, 3))",
   "outputs": [
    {
     "data": {
      "text/plain": [
       "{\"x\":2,\"y\":3}"
      ]
     },
     "execution_count": 15,
     "metadata": {},
     "output_type": "execute_result"
    }
   ],
   "execution_count": 15
  },
  {
   "metadata": {
    "ExecuteTime": {
     "end_time": "2024-04-03T13:19:55.452515200Z",
     "start_time": "2024-04-03T13:19:55.393535700Z"
    }
   },
   "cell_type": "code",
   "source": "println(Pt(4, 4))",
   "outputs": [
    {
     "name": "stdout",
     "output_type": "stream",
     "text": [
      "Pt(x=4, y=4)\r\n"
     ]
    }
   ],
   "execution_count": 16
  }
 ],
 "metadata": {
  "kernelspec": {
   "display_name": "Kotlin",
   "language": "kotlin",
   "name": "kotlin"
  },
  "language_info": {
   "name": "kotlin",
   "version": "1.9.10",
   "mimetype": "text/x-kotlin",
   "file_extension": ".kt",
   "pygments_lexer": "kotlin",
   "codemirror_mode": "text/x-kotlin",
   "nbconvert_exporter": ""
  }
 },
 "nbformat": 4,
 "nbformat_minor": 0
}
